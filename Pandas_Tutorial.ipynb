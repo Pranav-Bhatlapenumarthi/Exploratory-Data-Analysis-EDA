{
  "nbformat": 4,
  "nbformat_minor": 0,
  "metadata": {
    "colab": {
      "provenance": [],
      "authorship_tag": "ABX9TyO4+UyVjVes08ht+8joI/Le",
      "include_colab_link": true
    },
    "kernelspec": {
      "name": "python3",
      "display_name": "Python 3"
    },
    "language_info": {
      "name": "python"
    }
  },
  "cells": [
    {
      "cell_type": "markdown",
      "metadata": {
        "id": "view-in-github",
        "colab_type": "text"
      },
      "source": [
        "<a href=\"https://colab.research.google.com/github/Pranav-Bhatlapenumarthi/Exploratory-Data-Analysis-EDA/blob/main/Pandas_Tutorial.ipynb\" target=\"_parent\"><img src=\"https://colab.research.google.com/assets/colab-badge.svg\" alt=\"Open In Colab\"/></a>"
      ]
    },
    {
      "cell_type": "markdown",
      "source": [
        "# **Exploratory Data Analysis using Pandas**\n",
        "\n",
        "Dataset used: Ask A Manager Salary Survey 2021 (Responses) - Form Responses 1\n",
        "\n",
        "Source: https://oscarbaruffa.com/messy/"
      ],
      "metadata": {
        "id": "AuQ3MqEylR32"
      }
    },
    {
      "cell_type": "markdown",
      "source": [
        "Step 1: Importing Pandas library and increasing maximum number of rows to be displayed"
      ],
      "metadata": {
        "id": "_LI10nUUmNWT"
      }
    },
    {
      "cell_type": "code",
      "execution_count": 1,
      "metadata": {
        "id": "woe3ynQAeMM2",
        "colab": {
          "base_uri": "https://localhost:8080/"
        },
        "outputId": "f6109558-a4be-488b-c242-aa4c3e8d50f4"
      },
      "outputs": [
        {
          "output_type": "stream",
          "name": "stdout",
          "text": [
            "60\n",
            "150\n"
          ]
        }
      ],
      "source": [
        "import pandas as pd\n",
        "print(pd.options.display.max_rows)\n",
        "\n",
        "pd.options.display.max_rows = 150 #Increasing displayed rows\n",
        "print(pd.options.display.max_rows)"
      ]
    },
    {
      "cell_type": "markdown",
      "source": [
        "Step 2: Read the CSV file using Pandas and print the entire dataset"
      ],
      "metadata": {
        "id": "wdU84A9HnAhx"
      }
    },
    {
      "cell_type": "code",
      "source": [
        "df = pd.read_csv(\"/content/Ask A Manager Salary Survey 2021 (Responses) - Form Responses 1.csv\") # Reading the original CSV file\n",
        "print(df.to_string()) # Printing out the contents of the datasets"
      ],
      "metadata": {
        "collapsed": true,
        "id": "fJRylT7hZalf"
      },
      "execution_count": 5,
      "outputs": []
    },
    {
      "cell_type": "markdown",
      "source": [
        "Step 3: Rename the columns (This has been done since the original columns were too verbose)"
      ],
      "metadata": {
        "id": "yYn9SJn7nToI"
      }
    },
    {
      "cell_type": "code",
      "source": [
        "df.rename(columns={ # Renaming the columns\n",
        "    \"How old are you?\": \"Age\",\n",
        "    \"What industry do you work in?\": \"Industry\",\n",
        "    \"Job title\": \"Job_Title\",\n",
        "    \"If your job title needs additional context, please clarify here:\": \"Job_Title_Context\",\n",
        "    \"What is your annual salary? (You'll indicate the currency in a later question. If you are part-time or hourly, please enter an annualized equivalent -- what you would earn if you worked the job 40 hours a week, 52 weeks a year.)\": \"Annual_Salary\",\n",
        "    \"How much additional monetary compensation do you get, if any (for example, bonuses or overtime in an average year)? Please only include monetary compensation here, not the value of benefits.\": \"Additional compensation\",\n",
        "    \"Please indicate the currrency\": \"Currency\",\n",
        "    \"What country do you work in?\": \"Country\",\n",
        "    \"What city do you work in?\": \"City\",\n",
        "    \"How many years of professional work experience do you have overall?\": \"Years of experience\",\n",
        "    \"How many years of professional work experience do you have in your field?\": \"Years of experience in field\",\n",
        "    \"What is your highest level of education completed?\": \"Formal education\",\n",
        "    \"What is your gender?\": \"Gender\",\n",
        "    \"What is your race? (Choose all that apply.)\": \"Race\"\n",
        "}, inplace = True)\n",
        "print(df.columns)\n",
        "print(df.head())\n"
      ],
      "metadata": {
        "collapsed": true,
        "id": "ODPh3TWxdUcF"
      },
      "execution_count": null,
      "outputs": []
    },
    {
      "cell_type": "markdown",
      "source": [
        "Step 4: We drop the columns having all values as null(NaN)"
      ],
      "metadata": {
        "id": "5Q2FHydbt-hB"
      }
    },
    {
      "cell_type": "code",
      "source": [
        "df.drop(['Job_Title_Context', 'If \"Other,\" please indicate the currency here: ', 'If your income needs additional context, please provide it here:'], axis=1, inplace=True)\n",
        "print(df.columns)\n",
        "print(df.head())"
      ],
      "metadata": {
        "id": "_vCQa-ihkcMl"
      },
      "execution_count": null,
      "outputs": []
    },
    {
      "cell_type": "markdown",
      "source": [
        "Step 5: Converting data to appropriate datatype to aid further analysis"
      ],
      "metadata": {
        "id": "MgNuNq6adAGi"
      }
    },
    {
      "cell_type": "code",
      "source": [
        "df[\"Annual_Salary\"] = df[\"Annual_Salary\"].str.replace(',','').astype(int)\n",
        "df[\"Timestamp\"] = pd.to_datetime(df[\"Timestamp\"])\n",
        "\n",
        "print(type(df.loc[1, \"Timestamp\"]))\n",
        "print(type(df.loc[1, \"Annual_Salary\"]))"
      ],
      "metadata": {
        "id": "9lUoYmfKuQig",
        "colab": {
          "base_uri": "https://localhost:8080/"
        },
        "outputId": "bcdd32ee-bad5-4ea4-fd38-e65d64806b6e"
      },
      "execution_count": 30,
      "outputs": [
        {
          "output_type": "stream",
          "name": "stdout",
          "text": [
            "<class 'pandas._libs.tslibs.timestamps.Timestamp'>\n"
          ]
        }
      ]
    },
    {
      "cell_type": "markdown",
      "source": [
        "Step 6: Cleaning empty cells\n",
        "\n",
        "For numeric values, we replace the null values with the mean of the column\n",
        "\n",
        "For string values, we remove the entire row(Removing few rows will not affect the analysis for such a large dataset)"
      ],
      "metadata": {
        "id": "j6qDZg2yffzc"
      }
    },
    {
      "cell_type": "code",
      "source": [
        "annual_salary_mean = df[\"Annual_Salary\"].mean()\n",
        "addn_compensation_mean = df[\"Additional compensation\"].mean()\n",
        "\n",
        "df[\"Annual_Salary\"].fillna(annual_salary_mean, inplace = True)\n",
        "df[\"Additional compensation\"].fillna(addn_compensation_mean, inplace = True)\n",
        "\n",
        "null_columns = df.isnull().any() # Checking if any null values exist\n",
        "print(null_columns)\n",
        "\n",
        "df.dropna(inplace = True) # Removing rows having empty values\n",
        "print(null_columns)"
      ],
      "metadata": {
        "id": "Th4a0vWyd5qY"
      },
      "execution_count": null,
      "outputs": []
    },
    {
      "cell_type": "markdown",
      "source": [
        "Step 7: Importing Matplotlib and Seaborn for graphical plots"
      ],
      "metadata": {
        "id": "g3OhMiTBiUOj"
      }
    },
    {
      "cell_type": "code",
      "source": [
        "import matplotlib.pyplot as plt\n",
        "import seaborn as sns\n",
        "print(sns.__version__)\n",
        "print(df.columns)"
      ],
      "metadata": {
        "id": "xC2shNJMgwkp"
      },
      "execution_count": null,
      "outputs": []
    },
    {
      "cell_type": "markdown",
      "source": [
        "Step 8: Finally, analysing numeric values graphically"
      ],
      "metadata": {
        "id": "c7nrphcPipAq"
      }
    },
    {
      "cell_type": "code",
      "source": [
        "col_study = ['Annual_Salary', 'Additional compensation'] # the columns that we want to focus on\n",
        "sns.pairplot(df[col_study], height = 2.5)\n",
        "plt.show()"
      ],
      "metadata": {
        "id": "P66JmwUGg2j-"
      },
      "execution_count": null,
      "outputs": []
    }
  ]
}