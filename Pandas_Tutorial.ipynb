{
  "nbformat": 4,
  "nbformat_minor": 0,
  "metadata": {
    "colab": {
      "provenance": [],
      "authorship_tag": "ABX9TyOvSH1bM2KyxOFJBbbmI597",
      "include_colab_link": true
    },
    "kernelspec": {
      "name": "python3",
      "display_name": "Python 3"
    },
    "language_info": {
      "name": "python"
    }
  },
  "cells": [
    {
      "cell_type": "markdown",
      "metadata": {
        "id": "view-in-github",
        "colab_type": "text"
      },
      "source": [
        "<a href=\"https://colab.research.google.com/github/Pranav-Bhatlapenumarthi/Exploratory-Data-Analysis-EDA/blob/main/Pandas_Tutorial.ipynb\" target=\"_parent\"><img src=\"https://colab.research.google.com/assets/colab-badge.svg\" alt=\"Open In Colab\"/></a>"
      ]
    },
    {
      "cell_type": "markdown",
      "source": [
        "# **Exploratory Data Analysis using Pandas**\n",
        "\n",
        "Dataset used: Ask A Manager Salary Survey 2021 (Responses) - Form Responses 1\n",
        "\n",
        "Source: https://oscarbaruffa.com/messy/"
      ],
      "metadata": {
        "id": "AuQ3MqEylR32"
      }
    },
    {
      "cell_type": "markdown",
      "source": [
        "Step 1: Importing Pandas library and increasing maximum number of rows to be displayed"
      ],
      "metadata": {
        "id": "_LI10nUUmNWT"
      }
    },
    {
      "cell_type": "code",
      "execution_count": null,
      "metadata": {
        "id": "woe3ynQAeMM2"
      },
      "outputs": [],
      "source": [
        "import pandas as pd\n",
        "print(pd.options.display.max_rows)\n",
        "\n",
        "pd.options.display.max_rows = 150 #Increasing displayed rows\n",
        "print(pd.options.display.max_rows)"
      ]
    },
    {
      "cell_type": "markdown",
      "source": [
        "Step 2: Read the CSV file using Pandas and print the entire dataset"
      ],
      "metadata": {
        "id": "wdU84A9HnAhx"
      }
    },
    {
      "cell_type": "code",
      "source": [
        "df = pd.read_csv(\"/content/Ask A Manager Salary Survey 2021 (Responses) - Form Responses 1.csv\") # Reading the original CSV file\n",
        "print(df.to_string()) # Printing out the contents of the datasets"
      ],
      "metadata": {
        "collapsed": true,
        "id": "fJRylT7hZalf"
      },
      "execution_count": null,
      "outputs": []
    },
    {
      "cell_type": "markdown",
      "source": [
        "Step 3: Rename the columns (This has been done since the original columns were too verbose)"
      ],
      "metadata": {
        "id": "yYn9SJn7nToI"
      }
    },
    {
      "cell_type": "code",
      "source": [
        "df.rename(columns={ # Renaming the columns\n",
        "    \"How old are you?\": \"Age\",\n",
        "    \"What industry do you work in?\": \"Industry\",\n",
        "    \"Job title\": \"Job_Title\",\n",
        "    \"If your job title needs additional context, please clarify here:\": \"Job_Title_Context\",\n",
        "    \"What is your annual salary? (You'll indicate the currency in a later question. If you are part-time or hourly, please enter an annualized equivalent -- what you would earn if you worked the job 40 hours a week, 52 weeks a year.)\": \"Annual_Salary\",\n",
        "    \"How much additional monetary compensation do you get, if any (for example, bonuses or overtime in an average year)? Please only include monetary compensation here, not the value of benefits.\": \"Additional compensation\",\n",
        "    \"Please indicate the currrency\": \"Currency\",\n",
        "    \"What country do you work in?\": \"Country\",\n",
        "    \"What city do you work in?\": \"City\",\n",
        "    \"How many years of professional work experience do you have overall?\": \"Years of experience\",\n",
        "    \"How many years of professional work experience do you have in your field?\": \"Years of experience in field\",\n",
        "    \"What is your highest level of education completed?\": \"Formal education\",\n",
        "    \"What is your gender?\": \"Gender\",\n",
        "    \"What is your race? (Choose all that apply.)\": \"Race\"\n",
        "}, inplace = True)\n",
        "print(df.columns)\n",
        "print(df.head())\n"
      ],
      "metadata": {
        "collapsed": true,
        "id": "ODPh3TWxdUcF"
      },
      "execution_count": null,
      "outputs": []
    },
    {
      "cell_type": "markdown",
      "source": [],
      "metadata": {
        "id": "cejGm5f7lBo5"
      }
    },
    {
      "cell_type": "markdown",
      "source": [
        "Step 4: We drop the columns having all null values"
      ],
      "metadata": {
        "id": "5Q2FHydbt-hB"
      }
    },
    {
      "cell_type": "code",
      "source": [
        "df.drop(['Job_Title_Context', 'If \"Other,\" please indicate the currency here: ', 'If your income needs additional context, please provide it here: '], axis=1, inplace=True)\n",
        "print(df.columns)\n",
        "print(df.head())"
      ],
      "metadata": {
        "id": "_vCQa-ihkcMl"
      },
      "execution_count": null,
      "outputs": []
    },
    {
      "cell_type": "code",
      "source": [],
      "metadata": {
        "id": "9lUoYmfKuQig"
      },
      "execution_count": null,
      "outputs": []
    }
  ]
}